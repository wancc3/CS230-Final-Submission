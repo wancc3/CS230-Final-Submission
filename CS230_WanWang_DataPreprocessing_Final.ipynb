{
 "cells": [
  {
   "cell_type": "code",
   "execution_count": null,
   "metadata": {
    "colab": {},
    "colab_type": "code",
    "id": "1pcnyz5PglRk"
   },
   "outputs": [],
   "source": [
    "from keras.models import load_model\n",
    "import keras.backend as K\n",
    "import tensorflow as tf\n",
    "import mtcnn\n",
    "from mtcnn.mtcnn import MTCNN\n",
    "import numpy as np\n",
    "from numpy import asarray\n",
    "from numpy import expand_dims\n",
    "from numpy import linalg\n",
    "from PIL import Image\n",
    "from imageio import imread\n",
    "from skimage.transform import resize\n",
    "from scipy.spatial import distance\n",
    "import os\n",
    "import matplotlib.pyplot as plt\n",
    "%matplotlib inline"
   ]
  },
  {
   "cell_type": "code",
   "execution_count": null,
   "metadata": {
    "colab": {},
    "colab_type": "code",
    "id": "h3cYhceBpGjx"
   },
   "outputs": [],
   "source": [
    "image_dir_basepath_train = './data/images_train'\n",
    "image_dir_basepath_dev = './data/images_dev'\n",
    "image_dir_basepath_test = './data/images_test'\n",
    "image_size = 160\n",
    "image_reduction_factor = 8"
   ]
  },
  {
   "cell_type": "code",
   "execution_count": null,
   "metadata": {
    "colab": {},
    "colab_type": "code",
    "id": "1UIKuZzHpDP8"
   },
   "outputs": [],
   "source": [
    "model_path = './model/keras/model/facenet_keras.h5'\n",
    "model = load_model(model_path)"
   ]
  },
  {
   "cell_type": "code",
   "execution_count": null,
   "metadata": {
    "colab": {},
    "colab_type": "code",
    "id": "1kTmeZLWoAYX"
   },
   "outputs": [],
   "source": [
    "def prewhiten(x):\n",
    "    if x.ndim == 4:\n",
    "        axis = (1, 2, 3)\n",
    "        size = x[0].size\n",
    "    elif x.ndim == 3:\n",
    "        axis = (0, 1, 2)\n",
    "        size = x.size\n",
    "    else:\n",
    "        raise ValueError('Dimension should be 3 or 4')\n",
    "\n",
    "    mean = np.mean(x, axis=axis, keepdims=True)\n",
    "    std = np.std(x, axis=axis, keepdims=True)\n",
    "    std_adj = np.maximum(std, 1.0/np.sqrt(size))\n",
    "    y = (x - mean) / std_adj\n",
    "    return y"
   ]
  },
  {
   "cell_type": "code",
   "execution_count": null,
   "metadata": {
    "colab": {},
    "colab_type": "code",
    "id": "IIFfaBjDna3J"
   },
   "outputs": [],
   "source": [
    "def load_and_align_images(filepaths):\n",
    "    detector = MTCNN()\n",
    "    \n",
    "    aligned_images_HR = []\n",
    "    aligned_images_LR = []\n",
    "\n",
    "    for filepath in filepaths:\n",
    "        img = imread(filepath)\n",
    "\n",
    "        pixels = asarray(img)\n",
    "        results = detector.detect_faces(pixels)\n",
    "        x1, y1, width, height = results[0]['box']\n",
    "        x1, y1 = abs(x1), abs(y1)\n",
    "        x2, y2 = x1 + width, y1 + height\n",
    "        # extract the face\n",
    "        face = pixels[y1:y2, x1:x2]\n",
    "        # resize pixels to the model size\n",
    "        image = Image.fromarray(face)\n",
    "        \n",
    "        image_HR = image.resize((image_size,image_size))\n",
    "        aligned_HR = asarray(image_HR)      \n",
    "        aligned_images_HR.append(aligned_HR)\n",
    "\n",
    "        # Generate low-res through PIL \n",
    "        image_LR = image.resize((int(image_size/image_reduction_factor), int(image_size/image_reduction_factor)))\n",
    "        aligned_LR = asarray(image_LR)\n",
    "        aligned_images_LR.append(aligned_LR)\n",
    "\n",
    "    return np.array(aligned_images_HR) , np.array(aligned_images_LR)"
   ]
  },
  {
   "cell_type": "code",
   "execution_count": null,
   "metadata": {
    "colab": {},
    "colab_type": "code",
    "id": "Mp08BzTlnmbA"
   },
   "outputs": [],
   "source": [
    "def calc_embs(filepaths, batch_size=1):\n",
    "    aligned_images_HR_b4prewhiten, aligned_images_LR_b4prewhiten = load_and_align_images(filepaths)\n",
    "    aligned_images_HR = prewhiten(aligned_images_HR_b4prewhiten)\n",
    "    aligned_images_LR = prewhiten(aligned_images_LR_b4prewhiten)\n",
    "\n",
    "    pd_HR = []\n",
    "\n",
    "    for start in range(0, len(aligned_images_HR), batch_size):\n",
    "        pd_HR.append(model.predict_on_batch(aligned_images_HR[start:start+batch_size])) # Essentially passing one image at a time because batch_size = 1\n",
    "    embs_HR = K.l2_normalize(np.concatenate(pd_HR), axis=1)\n",
    "    embs_HR = K.eval(embs_HR)\n",
    "\n",
    "    return aligned_images_HR_b4prewhiten, embs_HR, aligned_images_LR_b4prewhiten"
   ]
  },
  {
   "cell_type": "code",
   "execution_count": null,
   "metadata": {
    "colab": {},
    "colab_type": "code",
    "id": "NnMCwTUwgnbf"
   },
   "outputs": [],
   "source": [
    "# Prepare training data\n",
    "data = {}\n",
    "\n",
    "image_dirpath = [os.path.join(image_dir_basepath_train, d) for d in os.listdir(image_dir_basepath_train)]\n",
    "\n",
    "First = True\n",
    "loopindex = 0\n",
    "\n",
    "for d in image_dirpath: #Loop through each directory\n",
    "    loopindex = loopindex+1\n",
    "    print(loopindex)\n",
    "    image_filepaths = [os.path.join(d,f) for f in os.listdir(d)] #create a list of file names in current directory\n",
    "    aligned_images_HR_b4prewhiten, embs_HR, aligned_images_LR_b4prewhiten = calc_embs(image_filepaths)\n",
    "    if First == True:\n",
    "        X_train = aligned_images_LR_b4prewhiten\n",
    "        X_train_HR = aligned_images_HR_b4prewhiten\n",
    "        Y_train = embs_HR\n",
    "        X_train_name = []\n",
    "        for name_index in range(aligned_images_LR_b4prewhiten.shape[0]):\n",
    "            X_train_name.append(d[20:])\n",
    "        First = False\n",
    "    else:\n",
    "        X_train = np.append(X_train, aligned_images_LR_b4prewhiten, axis=0)\n",
    "        X_train_HR = np.append(X_train_HR, aligned_images_HR_b4prewhiten, axis=0)\n",
    "        Y_train = np.append(Y_train, embs_HR, axis=0)\n",
    "        for name_index in range(aligned_images_LR_b4prewhiten.shape[0]):\n",
    "            X_train_name.append(d[20:])\n",
    "\n",
    "np.save('X_train.npy', X_train)\n",
    "np.save('X_train_HR.npy', X_train_HR)\n",
    "np.save('X_train_name.npy', X_train_name)\n",
    "np.save('Y_train.npy', Y_train)"
   ]
  },
  {
   "cell_type": "code",
   "execution_count": null,
   "metadata": {
    "colab": {},
    "colab_type": "code",
    "id": "IE1Z18omI0N0",
    "scrolled": true
   },
   "outputs": [],
   "source": [
    "# Prepare dev data\n",
    "data = {}\n",
    "\n",
    "image_dirpath = [os.path.join(image_dir_basepath_dev, d) for d in os.listdir(image_dir_basepath_dev)]\n",
    "\n",
    "First = True\n",
    "loopindex = 0\n",
    "\n",
    "for d in image_dirpath: #Loop through each directory\n",
    "    loopindex = loopindex+1\n",
    "    print(loopindex)\n",
    "    image_filepaths = [os.path.join(d,f) for f in os.listdir(d)] #create a list of file names in current directory\n",
    "    aligned_images_HR_b4prewhiten, embs_HR, aligned_images_LR_b4prewhiten = calc_embs(image_filepaths)\n",
    "    if First == True:\n",
    "        X_dev = aligned_images_LR_b4prewhiten\n",
    "        X_dev_HR = aligned_images_HR_b4prewhiten\n",
    "        Y_dev = embs_HR\n",
    "        X_dev_name = []\n",
    "        for name_index in range(aligned_images_LR_b4prewhiten.shape[0]):\n",
    "            X_dev_name.append(d[18:])\n",
    "        First = False\n",
    "    else:\n",
    "        X_dev = np.append(X_dev, aligned_images_LR_b4prewhiten, axis=0)\n",
    "        X_dev_HR = np.append(X_dev_HR, aligned_images_HR_b4prewhiten, axis=0)\n",
    "        Y_dev = np.append(Y_dev, embs_HR, axis=0)\n",
    "        for name_index in range(aligned_images_LR_b4prewhiten.shape[0]):\n",
    "            X_dev_name.append(d[18:])\n",
    "\n",
    "np.save('X_dev.npy', X_dev)\n",
    "np.save('X_dev_HR.npy', X_dev_HR)\n",
    "np.save('X_dev_name.npy', X_dev_name)\n",
    "np.save('Y_dev.npy', Y_dev)"
   ]
  },
  {
   "cell_type": "code",
   "execution_count": null,
   "metadata": {
    "colab": {},
    "colab_type": "code",
    "id": "v2IjK9HSJICK"
   },
   "outputs": [],
   "source": [
    "# Prepare test data\n",
    "data = {}\n",
    "\n",
    "image_dirpath = [os.path.join(image_dir_basepath_test, d) for d in os.listdir(image_dir_basepath_test)]\n",
    "\n",
    "First = True\n",
    "loopindex = 0\n",
    "\n",
    "for d in image_dirpath: #Loop through each directory\n",
    "    loopindex = loopindex+1\n",
    "    print(loopindex)\n",
    "    image_filepaths = [os.path.join(d,f) for f in os.listdir(d)] #create a list of file names in current directory\n",
    "    aligned_images_HR_b4prewhiten, embs_HR, aligned_images_LR_b4prewhiten = calc_embs(image_filepaths)\n",
    "    if First == True:\n",
    "        X_test = aligned_images_LR_b4prewhiten\n",
    "        X_test_HR = aligned_images_HR_b4prewhiten\n",
    "        Y_test = embs_HR\n",
    "        X_test_name = []\n",
    "        for name_index in range(aligned_images_LR_b4prewhiten.shape[0]):\n",
    "            X_test_name.append(d[19:])\n",
    "        First = False\n",
    "    else:\n",
    "        X_test = np.append(X_test, aligned_images_LR_b4prewhiten, axis=0)\n",
    "        X_test_HR = np.append(X_test_HR, aligned_images_HR_b4prewhiten, axis=0)\n",
    "        Y_test = np.append(Y_test, embs_HR, axis=0)\n",
    "        for name_index in range(aligned_images_LR_b4prewhiten.shape[0]):\n",
    "            X_test_name.append(d[19:])\n",
    "\n",
    "np.save('X_test.npy', X_test)\n",
    "np.save('X_test_HR.npy', X_test_HR)\n",
    "np.save('X_test_name.npy', X_test_name)\n",
    "np.save('Y_test.npy', Y_test)"
   ]
  },
  {
   "cell_type": "code",
   "execution_count": null,
   "metadata": {
    "colab": {},
    "colab_type": "code",
    "id": "ghp5OPX-yXFz"
   },
   "outputs": [],
   "source": []
  }
 ],
 "metadata": {
  "accelerator": "GPU",
  "colab": {
   "collapsed_sections": [],
   "name": "CS230_DataPreprocessing.ipynb",
   "provenance": []
  },
  "kernelspec": {
   "display_name": "Python 3",
   "language": "python",
   "name": "python3"
  },
  "language_info": {
   "codemirror_mode": {
    "name": "ipython",
    "version": 3
   },
   "file_extension": ".py",
   "mimetype": "text/x-python",
   "name": "python",
   "nbconvert_exporter": "python",
   "pygments_lexer": "ipython3",
   "version": "3.7.4"
  }
 },
 "nbformat": 4,
 "nbformat_minor": 1
}
