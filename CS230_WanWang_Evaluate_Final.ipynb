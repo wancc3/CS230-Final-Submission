{
 "cells": [
  {
   "cell_type": "code",
   "execution_count": null,
   "metadata": {},
   "outputs": [],
   "source": [
    "from keras.models import load_model\n",
    "from keras.models import Model\n",
    "from keras.layers import Input, Lambda\n",
    "from keras.layers import Conv2DTranspose, BatchNormalization, Activation, Dropout\n",
    "from keras.optimizers import Adam\n",
    "import keras.backend as K\n",
    "import tensorflow as tf\n",
    "import numpy as np\n",
    "from numpy import asarray\n",
    "from numpy import expand_dims\n",
    "from numpy import linalg\n",
    "from PIL import Image\n",
    "from imageio import imread\n",
    "from skimage.transform import resize\n",
    "from scipy.spatial import distance\n",
    "import os\n",
    "import matplotlib\n",
    "import matplotlib.pyplot as plt\n",
    "%matplotlib inline"
   ]
  },
  {
   "cell_type": "code",
   "execution_count": null,
   "metadata": {},
   "outputs": [],
   "source": [
    "def prewhiten(x):\n",
    "\n",
    "    if K.ndim(x) == 4:\n",
    "        axis = (1, 2, 3)\n",
    "        size = K.int_shape(x)\n",
    "        size = size[1]*size[2]*size[3]\n",
    "    elif K.ndim(x) == 3:\n",
    "        axis = (0, 1, 2)\n",
    "        size = K.int_shape(x)\n",
    "        size = size[0]*size[1]*size[2]\n",
    "    else:\n",
    "        raise ValueError('Dimension should be 3 or 4')\n",
    "\n",
    "    mean = K.mean(x, axis=axis, keepdims=True)\n",
    "    std = K.std(x, axis=axis, keepdims=True)\n",
    "    std_adj = K.maximum(std, 1.0/np.sqrt(size)) \n",
    "    y = (x - mean) / std_adj\n",
    "    return y"
   ]
  },
  {
   "cell_type": "code",
   "execution_count": null,
   "metadata": {},
   "outputs": [],
   "source": [
    "# Load Dev data\n",
    "X_eval = np.load('X_test.npy')\n",
    "Y_eval = np.load('Y_test.npy')"
   ]
  },
  {
   "cell_type": "code",
   "execution_count": null,
   "metadata": {},
   "outputs": [],
   "source": [
    "X_eval = X_eval[10:20,:,:,:]\n",
    "Y_eval = Y_eval[10:20,:]"
   ]
  },
  {
   "cell_type": "code",
   "execution_count": null,
   "metadata": {},
   "outputs": [],
   "source": [
    "# Check the data sizes\n",
    "print(X_eval.shape)\n",
    "print(Y_eval.shape)"
   ]
  },
  {
   "cell_type": "code",
   "execution_count": null,
   "metadata": {},
   "outputs": [],
   "source": [
    "# Load the FaceNet Model\n",
    "model_path = './model/keras/model/facenet_keras.h5'\n",
    "model_FN = load_model(model_path)"
   ]
  },
  {
   "cell_type": "code",
   "execution_count": null,
   "metadata": {},
   "outputs": [],
   "source": [
    "model_path = './model_final_sigmoid_N8_080.h5'\n",
    "model_final = load_model(model_path, custom_objects={\"prewhiten\":prewhiten})"
   ]
  },
  {
   "cell_type": "code",
   "execution_count": null,
   "metadata": {},
   "outputs": [],
   "source": [
    "#1. Generate Yhat of Dev set\n",
    "Yhat_eval = model_final.predict(X_eval)"
   ]
  },
  {
   "cell_type": "code",
   "execution_count": null,
   "metadata": {},
   "outputs": [],
   "source": [
    "#2 Generate YHattilt of navie upsampling\n",
    "length = X_eval.shape[0]\n",
    "\n",
    "X_eval_LRHR_np = np.ndarray(shape=(length, 160,160,3), dtype=int)\n",
    "\n",
    "for i in range(length):\n",
    "    X_eval_LR = Image.fromarray(X_eval[i])\n",
    "    X_eval_LRHR = X_eval_LR.resize((160,160), resample=Image.BICUBIC)\n",
    "    X_eval_LRHR_np[i] = asarray(X_eval_LRHR)"
   ]
  },
  {
   "cell_type": "code",
   "execution_count": null,
   "metadata": {},
   "outputs": [],
   "source": [
    "# 3. Pass through the sub-sequent network\n",
    "kvar = K.variable(value=X_eval_LRHR_np)\n",
    "temp1 = Lambda(lambda x: prewhiten(x))(kvar)\n",
    "temp2 = model_FN(temp1)\n",
    "temp3 = Lambda(lambda  x: K.l2_normalize(x,axis=1))(temp2)\n",
    "Yhattilt_eval = K.eval(temp3)"
   ]
  },
  {
   "cell_type": "code",
   "execution_count": null,
   "metadata": {},
   "outputs": [],
   "source": [
    "print(Y_eval.shape)\n",
    "print(Yhat_eval.shape)\n",
    "print(Yhattilt_eval.shape)"
   ]
  },
  {
   "cell_type": "code",
   "execution_count": null,
   "metadata": {},
   "outputs": [],
   "source": [
    "Error_Yhat = np.linalg.norm(Y_eval-Yhat_eval, axis=1, keepdims=True)"
   ]
  },
  {
   "cell_type": "code",
   "execution_count": null,
   "metadata": {},
   "outputs": [],
   "source": [
    "Error_Yhattilt = np.linalg.norm(Y_eval-Yhattilt_eval, axis=1, keepdims=True)"
   ]
  },
  {
   "cell_type": "code",
   "execution_count": null,
   "metadata": {},
   "outputs": [],
   "source": [
    "A = Error_Yhat > Error_Yhattilt"
   ]
  },
  {
   "cell_type": "code",
   "execution_count": null,
   "metadata": {},
   "outputs": [],
   "source": [
    "print(\"Number of sample model performs worse: \", np.sum(A))\n",
    "print(\"Number of sample model performs better: \", Error_Yhat.shape[0]-np.sum(A))"
   ]
  },
  {
   "cell_type": "code",
   "execution_count": null,
   "metadata": {},
   "outputs": [],
   "source": []
  }
 ],
 "metadata": {
  "kernelspec": {
   "display_name": "Python 3",
   "language": "python",
   "name": "python3"
  },
  "language_info": {
   "codemirror_mode": {
    "name": "ipython",
    "version": 3
   },
   "file_extension": ".py",
   "mimetype": "text/x-python",
   "name": "python",
   "nbconvert_exporter": "python",
   "pygments_lexer": "ipython3",
   "version": "3.7.4"
  }
 },
 "nbformat": 4,
 "nbformat_minor": 2
}
