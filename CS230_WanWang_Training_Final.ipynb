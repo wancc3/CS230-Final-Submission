{
 "cells": [
  {
   "cell_type": "code",
   "execution_count": null,
   "metadata": {},
   "outputs": [],
   "source": [
    "# Training data has a size of N/8"
   ]
  },
  {
   "cell_type": "code",
   "execution_count": null,
   "metadata": {
    "colab": {
     "base_uri": "https://localhost:8080/",
     "height": 33
    },
    "colab_type": "code",
    "executionInfo": {
     "elapsed": 2640,
     "status": "ok",
     "timestamp": 1574407889280,
     "user": {
      "displayName": "Gordon Wan",
      "photoUrl": "https://lh3.googleusercontent.com/a-/AAuE7mA1epUD6k4PCStVmMeqY5Ud-pktl8aY3_Etb6L3g4U=s64",
      "userId": "10448164346310529762"
     },
     "user_tz": 480
    },
    "id": "uMTtS5ukGtNI",
    "outputId": "60fdd845-9177-4a19-8084-d1e2900141ee"
   },
   "outputs": [],
   "source": [
    "from keras.models import load_model\n",
    "from keras.models import Model\n",
    "from keras.layers import Input, Lambda\n",
    "from keras.layers import Conv2DTranspose, BatchNormalization, Activation, Dropout, UpSampling2D, Conv2D\n",
    "from keras.optimizers import Adam\n",
    "from keras.callbacks import TensorBoard\n",
    "from keras.callbacks import ModelCheckpoint\n",
    "import keras.backend as K\n",
    "import tensorflow as tf\n",
    "import numpy as np\n",
    "from numpy import asarray\n",
    "from numpy import expand_dims\n",
    "from numpy import linalg\n",
    "from PIL import Image\n",
    "from imageio import imread\n",
    "from skimage.transform import resize\n",
    "from scipy.spatial import distance\n",
    "import os\n",
    "import matplotlib.pyplot as plt\n",
    "%matplotlib inline"
   ]
  },
  {
   "cell_type": "code",
   "execution_count": null,
   "metadata": {
    "colab": {},
    "colab_type": "code",
    "id": "6GvfejVlLx-0"
   },
   "outputs": [],
   "source": [
    "image_size = 160\n",
    "image_reduction_factor = 8"
   ]
  },
  {
   "cell_type": "code",
   "execution_count": null,
   "metadata": {},
   "outputs": [],
   "source": [
    "tf.__version__"
   ]
  },
  {
   "cell_type": "code",
   "execution_count": null,
   "metadata": {
    "colab": {
     "base_uri": "https://localhost:8080/",
     "height": 508
    },
    "colab_type": "code",
    "executionInfo": {
     "elapsed": 16399,
     "status": "ok",
     "timestamp": 1574407935338,
     "user": {
      "displayName": "Gordon Wan",
      "photoUrl": "https://lh3.googleusercontent.com/a-/AAuE7mA1epUD6k4PCStVmMeqY5Ud-pktl8aY3_Etb6L3g4U=s64",
      "userId": "10448164346310529762"
     },
     "user_tz": 480
    },
    "id": "HzivWlZgLykZ",
    "outputId": "b8f14fa9-cb83-4238-90a6-5fa3b2e7565d"
   },
   "outputs": [],
   "source": [
    "model_path = './model/keras/model/facenet_keras.h5'\n",
    "model_FN = load_model(model_path)"
   ]
  },
  {
   "cell_type": "code",
   "execution_count": null,
   "metadata": {
    "colab": {},
    "colab_type": "code",
    "id": "u42PcW6Zd8Dl"
   },
   "outputs": [],
   "source": [
    "# Make the model non-trainable\n",
    "for l in model_FN.layers:\n",
    "    l.trainable = False"
   ]
  },
  {
   "cell_type": "code",
   "execution_count": null,
   "metadata": {
    "colab": {},
    "colab_type": "code",
    "id": "P7WBLkK3L4MM"
   },
   "outputs": [],
   "source": [
    "def prewhiten(x):\n",
    "\n",
    "    if K.ndim(x) == 4:\n",
    "        axis = (1, 2, 3)\n",
    "        size = K.int_shape(x)\n",
    "        size = size[1]*size[2]*size[3]\n",
    "    elif K.ndim(x) == 3:\n",
    "        axis = (0, 1, 2)\n",
    "        size = K.int_shape(x)\n",
    "        size = size[0]*size[1]*size[2]\n",
    "    else:\n",
    "        raise ValueError('Dimension should be 3 or 4')\n",
    "\n",
    "    mean = K.mean(x, axis=axis, keepdims=True)\n",
    "    std = K.std(x, axis=axis, keepdims=True)\n",
    "    std_adj = K.maximum(std, 1.0/np.sqrt(size)) \n",
    "    y = (x - mean) / std_adj\n",
    "    return y"
   ]
  },
  {
   "cell_type": "code",
   "execution_count": null,
   "metadata": {
    "colab": {},
    "colab_type": "code",
    "id": "TLAhsqMJL7w7"
   },
   "outputs": [],
   "source": [
    "# Load Training, Dev, and Test data\n",
    "X_train = np.load('X_train.npy')\n",
    "Y_train = np.load('Y_train.npy')\n",
    "\n",
    "X_dev = np.load('X_dev.npy')\n",
    "Y_dev = np.load('Y_dev.npy')\n",
    "\n",
    "X_test = np.load('X_test.npy')\n",
    "Y_test = np.load('Y_test.npy')"
   ]
  },
  {
   "cell_type": "code",
   "execution_count": null,
   "metadata": {
    "colab": {
     "base_uri": "https://localhost:8080/",
     "height": 115
    },
    "colab_type": "code",
    "executionInfo": {
     "elapsed": 301,
     "status": "ok",
     "timestamp": 1574407949261,
     "user": {
      "displayName": "Gordon Wan",
      "photoUrl": "https://lh3.googleusercontent.com/a-/AAuE7mA1epUD6k4PCStVmMeqY5Ud-pktl8aY3_Etb6L3g4U=s64",
      "userId": "10448164346310529762"
     },
     "user_tz": 480
    },
    "id": "gSa3GzPdtNva",
    "outputId": "7a15b32f-d497-4fb2-dd97-ef5a6917d5ae"
   },
   "outputs": [],
   "source": [
    "# Check the data sizes\n",
    "print(X_train.shape)\n",
    "print(Y_train.shape)\n",
    "print(X_dev.shape)\n",
    "print(Y_dev.shape)\n",
    "print(X_test.shape)\n",
    "print(Y_test.shape)"
   ]
  },
  {
   "cell_type": "code",
   "execution_count": null,
   "metadata": {
    "colab": {
     "base_uri": "https://localhost:8080/",
     "height": 635
    },
    "colab_type": "code",
    "executionInfo": {
     "elapsed": 787,
     "status": "ok",
     "timestamp": 1574408034457,
     "user": {
      "displayName": "Gordon Wan",
      "photoUrl": "https://lh3.googleusercontent.com/a-/AAuE7mA1epUD6k4PCStVmMeqY5Ud-pktl8aY3_Etb6L3g4U=s64",
      "userId": "10448164346310529762"
     },
     "user_tz": 480
    },
    "id": "BqOlMUTCbjXG",
    "outputId": "b1b342ac-059c-4bd0-ed1c-25ce6fb10f8a"
   },
   "outputs": [],
   "source": [
    "# Start the development here:\n",
    "# Define the upsampling model\n",
    "input_layer = Input(shape=(20,20,3), name='model_input_UR')\n",
    "# Need to turn the input tensor from (20,20,3) to (160,160,3)\n",
    "x = input_layer\n",
    "x = Conv2D(filters=256, kernel_size=3, strides=1, padding='same', name='decoder_conv_t_0_UR')(x)\n",
    "x = BatchNormalization()(x)\n",
    "x = Activation('relu')(x)\n",
    "x = Dropout(rate=0.25)(x)\n",
    "\n",
    "x = UpSampling2D()(x) #40\n",
    "x = Conv2D(filters=128, kernel_size=3, strides=1, padding='same', name='decoder_conv_t_1_UR')(x)\n",
    "x = BatchNormalization()(x)\n",
    "x = Activation('relu')(x)\n",
    "x = Dropout(rate=0.25)(x)\n",
    "\n",
    "x = UpSampling2D()(x) #80\n",
    "x = Conv2D(filters=64, kernel_size=3, strides=1, padding='same', name='decoder_conv_t_2_UR')(x)\n",
    "x = BatchNormalization()(x)\n",
    "x = Activation('relu')(x)\n",
    "x = Dropout(rate=0.25)(x)\n",
    "\n",
    "x = UpSampling2D()(x) #160\n",
    "x = Conv2D(filters=32, kernel_size=3, strides=1, padding='same', name='decoder_conv_t_3_UR')(x)\n",
    "x = BatchNormalization()(x)\n",
    "x = Activation('relu')(x)\n",
    "x = Dropout(rate=0.25)(x)\n",
    "\n",
    "x = Conv2D(filters=3, kernel_size=3, strides=1, padding='same', name='decoder_conv_t_4_UR')(x)\n",
    "output_layer = Activation('sigmoid')(x)\n",
    "\n",
    "model_UR = Model(input_layer, output_layer)\n",
    "model_UR.summary()"
   ]
  },
  {
   "cell_type": "code",
   "execution_count": null,
   "metadata": {
    "colab": {
     "base_uri": "https://localhost:8080/",
     "height": 310
    },
    "colab_type": "code",
    "executionInfo": {
     "elapsed": 8550,
     "status": "ok",
     "timestamp": 1574408125396,
     "user": {
      "displayName": "Gordon Wan",
      "photoUrl": "https://lh3.googleusercontent.com/a-/AAuE7mA1epUD6k4PCStVmMeqY5Ud-pktl8aY3_Etb6L3g4U=s64",
      "userId": "10448164346310529762"
     },
     "user_tz": 480
    },
    "id": "ZHI9DEcLESI0",
    "outputId": "ff844a20-f38e-42d8-9286-2549b4034e57"
   },
   "outputs": [],
   "source": [
    "# Define the final model\n",
    "input_layer_final = Input(shape=(20,20,3), name='model_input_final')\n",
    "x = input_layer_final\n",
    "# 1. Pass through the training NN\n",
    "x = model_UR(x)\n",
    "# 2. Prewhitening before passing to Facenet \n",
    "x = Lambda(lambda x: prewhiten(x))(x)\n",
    "# 3. Pass through the non-trainable facenet \n",
    "x = model_FN(x)\n",
    "# 4. Pass through the L2-norm layer : K.l2_normalize(X, axis=1)\n",
    "output_layer_final = Lambda(lambda  x: K.l2_normalize(x,axis=1))(x)\n",
    "# 5. Define the Model\n",
    "model_final = Model(input_layer_final, output_layer_final)\n",
    "model_final.summary()"
   ]
  },
  {
   "cell_type": "code",
   "execution_count": null,
   "metadata": {
    "colab": {
     "base_uri": "https://localhost:8080/",
     "height": 362
    },
    "colab_type": "code",
    "executionInfo": {
     "elapsed": 3948679,
     "status": "ok",
     "timestamp": 1574412147635,
     "user": {
      "displayName": "Gordon Wan",
      "photoUrl": "https://lh3.googleusercontent.com/a-/AAuE7mA1epUD6k4PCStVmMeqY5Ud-pktl8aY3_Etb6L3g4U=s64",
      "userId": "10448164346310529762"
     },
     "user_tz": 480
    },
    "id": "OXdP3QjK1KNo",
    "outputId": "ac291f44-36a1-4f29-bf58-fb06d401e76e"
   },
   "outputs": [],
   "source": [
    "# 5. Compile the Model\n",
    "opt = Adam(lr=0.005)\n",
    "model_final.compile(loss='mse', optimizer=opt, metrics=['mae'])\n",
    "\n",
    "# 6. Training the Model\n",
    "tensorboard = TensorBoard('./logs/UpSam')\n",
    "checkpoint = ModelCheckpoint('model_final_sigmoid_N8_{epoch:03d}.h5', period=5)\n",
    "model_final.fit(X_train, Y_train, batch_size=128, epochs=100, validation_data=(X_dev,Y_dev), shuffle=True, callbacks=[tensorboard, checkpoint])"
   ]
  },
  {
   "cell_type": "code",
   "execution_count": null,
   "metadata": {},
   "outputs": [],
   "source": []
  }
 ],
 "metadata": {
  "accelerator": "TPU",
  "colab": {
   "collapsed_sections": [],
   "name": "CS230_Training.ipynb",
   "provenance": []
  },
  "kernelspec": {
   "display_name": "Python 3",
   "language": "python",
   "name": "python3"
  },
  "language_info": {
   "codemirror_mode": {
    "name": "ipython",
    "version": 3
   },
   "file_extension": ".py",
   "mimetype": "text/x-python",
   "name": "python",
   "nbconvert_exporter": "python",
   "pygments_lexer": "ipython3",
   "version": "3.7.4"
  }
 },
 "nbformat": 4,
 "nbformat_minor": 1
}
